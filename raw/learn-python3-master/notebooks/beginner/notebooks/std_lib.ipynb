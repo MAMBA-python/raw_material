{
 "cells": [
  {
   "cell_type": "markdown",
   "metadata": {},
   "source": [
    "# Goodies of the [Python Standard Library](https://docs.python.org/3/library/#the-python-standard-library)\n",
    "The Python Standard Libary is part of your Python installation. It contains a wide range of packages which may be helpful while building your Python masterpieces. This notebook lists some of the commonly used packages and their main functionalities."
   ]
  },
  {
   "cell_type": "markdown",
   "metadata": {},
   "source": [
    "## [`datetime`](https://docs.python.org/3/library/datetime.html#module-datetime) for working with dates and times"
   ]
  },
  {
   "cell_type": "code",
   "execution_count": 1,
   "metadata": {},
   "outputs": [
    {
     "name": "stdout",
     "output_type": "stream",
     "text": [
      "local now: 2018-11-19 16:31:03.364416\n",
      "utc now: 2018-11-19 15:31:03.364416\n",
      "2018 11 19 16 31 3\n",
      "date: 2018-11-19\n",
      "time: 16:31:03.364416\n"
     ]
    }
   ],
   "source": [
    "import datetime as dt\n",
    "\n",
    "local_now = dt.datetime.now()\n",
    "print('local now: {}'.format(local_now))\n",
    "\n",
    "utc_now = dt.datetime.utcnow()\n",
    "print('utc now: {}'.format(utc_now))\n",
    "\n",
    "# You can access any value separately:\n",
    "print('{} {} {} {} {} {}'.format(local_now.year, local_now.month,\n",
    "                                 local_now.day, local_now.hour,\n",
    "                                 local_now.minute, local_now.second))\n",
    "\n",
    "print('date: {}'.format(local_now.date()))\n",
    "print('time: {}'.format(local_now.time()))"
   ]
  },
  {
   "cell_type": "markdown",
   "metadata": {},
   "source": [
    "### `strftime()`\n",
    "For string formatting the `datetime`"
   ]
  },
  {
   "cell_type": "code",
   "execution_count": 2,
   "metadata": {},
   "outputs": [
    {
     "name": "stdout",
     "output_type": "stream",
     "text": [
      "2018/11/19-16:31:03\n",
      "date: 2018-11-19 time:16:31:03\n"
     ]
    }
   ],
   "source": [
    "formatted1 = local_now.strftime('%Y/%m/%d-%H:%M:%S')\n",
    "print(formatted1)\n",
    "\n",
    "formatted2 = local_now.strftime('date: %Y-%m-%d time:%H:%M:%S')\n",
    "print(formatted2)"
   ]
  },
  {
   "cell_type": "markdown",
   "metadata": {},
   "source": [
    "### `strptime()`\n",
    "For converting a datetime string into a `datetime` object "
   ]
  },
  {
   "cell_type": "code",
   "execution_count": 3,
   "metadata": {},
   "outputs": [
    {
     "name": "stdout",
     "output_type": "stream",
     "text": [
      "my_dt: 2000-01-01 10:00:00\n"
     ]
    }
   ],
   "source": [
    "my_dt = dt.datetime.strptime('2000-01-01 10:00:00', '%Y-%m-%d %H:%M:%S')\n",
    "print('my_dt: {}'.format(my_dt))"
   ]
  },
  {
   "cell_type": "markdown",
   "metadata": {},
   "source": [
    "### [`timedelta`](https://docs.python.org/3/library/datetime.html#timedelta-objects)\n",
    "For working with time difference."
   ]
  },
  {
   "cell_type": "code",
   "execution_count": 4,
   "metadata": {},
   "outputs": [
    {
     "name": "stdout",
     "output_type": "stream",
     "text": [
      "tomorrow this time: 2018-11-20 16:31:03.364416\n",
      "tomorrow - now = 1 day, 0:00:00\n",
      "days: 1, seconds: 0\n",
      "total seconds: 86400.0\n"
     ]
    }
   ],
   "source": [
    "tomorrow = local_now + dt.timedelta(days=1)\n",
    "print('tomorrow this time: {}'.format(tomorrow))\n",
    "\n",
    "delta = tomorrow - local_now\n",
    "print('tomorrow - now = {}'.format(delta))\n",
    "print('days: {}, seconds: {}'.format(delta.days, delta.seconds))\n",
    "print('total seconds: {}'.format(delta.total_seconds()))"
   ]
  },
  {
   "cell_type": "markdown",
   "metadata": {},
   "source": [
    "### Working with timezones\n",
    "Let's first make sure [`pytz`](http://pytz.sourceforge.net/) is installed."
   ]
  },
  {
   "cell_type": "code",
   "execution_count": 5,
   "metadata": {},
   "outputs": [
    {
     "name": "stdout",
     "output_type": "stream",
     "text": [
      "Requirement already satisfied: pytz in c:\\anaconda3\\lib\\site-packages (2017.2)\n"
     ]
    }
   ],
   "source": [
    "import sys\n",
    "!{sys.executable} -m pip install pytz"
   ]
  },
  {
   "cell_type": "code",
   "execution_count": 6,
   "metadata": {},
   "outputs": [
    {
     "name": "stdout",
     "output_type": "stream",
     "text": [
      "naive utc now: 2018-11-19 15:31:10.896838, tzinfo: None\n",
      "utc now: 2018-11-19 15:31:10.896838+00:00, tzinfo: UTC\n",
      "Paris: 2018-11-19 16:31:10.896838+01:00, tzinfo: Europe/Paris\n",
      "New York: 2018-11-19 10:31:10.896838-05:00, tzinfo: America/New_York\n"
     ]
    }
   ],
   "source": [
    "import datetime as dt\n",
    "import pytz\n",
    "\n",
    "naive_utc_now = dt.datetime.utcnow()\n",
    "print('naive utc now: {}, tzinfo: {}'.format(naive_utc_now, naive_utc_now.tzinfo))\n",
    "\n",
    "# Localizing naive datetimes\n",
    "UTC_TZ = pytz.timezone('UTC')\n",
    "utc_now = UTC_TZ.localize(naive_utc_now)\n",
    "print('utc now: {}, tzinfo: {}'.format(utc_now, utc_now.tzinfo))\n",
    "\n",
    "# Converting localized datetimes to different timezone\n",
    "PARIS_TZ = pytz.timezone('Europe/Paris')\n",
    "paris_now = PARIS_TZ.normalize(utc_now)\n",
    "print('Paris: {}, tzinfo: {}'.format(paris_now, paris_now.tzinfo))\n",
    "\n",
    "NEW_YORK_TZ = pytz.timezone('America/New_York')\n",
    "ny_now = NEW_YORK_TZ.normalize(utc_now)\n",
    "print('New York: {}, tzinfo: {}'.format(ny_now, ny_now.tzinfo))"
   ]
  },
  {
   "cell_type": "markdown",
   "metadata": {},
   "source": [
    "**NOTE**: If your project uses datetimes heavily, you may want to take a look at external libraries, such as [Pendulum](https://pendulum.eustace.io/docs/) and [Maya](https://github.com/kennethreitz/maya), which make working with datetimes easier for certain use cases."
   ]
  },
  {
   "cell_type": "markdown",
   "metadata": {},
   "source": [
    "## [`logging`](https://docs.python.org/3/library/logging.html#module-logging)"
   ]
  },
  {
   "cell_type": "code",
   "execution_count": 7,
   "metadata": {},
   "outputs": [
    {
     "name": "stderr",
     "output_type": "stream",
     "text": [
      "This is warning\n",
      "This is error\n",
      "This is critical\n"
     ]
    }
   ],
   "source": [
    "import logging\n",
    "\n",
    "# Handy way for getting a dedicated logger for every module separately\n",
    "logger = logging.getLogger(__name__)\n",
    "logger.setLevel(logging.WARNING)\n",
    "\n",
    "logger.debug('This is debug')\n",
    "logger.info('This is info')\n",
    "logger.warning('This is warning')\n",
    "logger.error('This is error')\n",
    "logger.critical('This is critical')"
   ]
  },
  {
   "cell_type": "markdown",
   "metadata": {},
   "source": [
    "### Logging expections\n",
    "There's a neat `exception` function in `logging` module which will automatically log the stack trace in addition to user defined log entry. "
   ]
  },
  {
   "cell_type": "code",
   "execution_count": 8,
   "metadata": {},
   "outputs": [
    {
     "name": "stderr",
     "output_type": "stream",
     "text": [
      "ERROR:root:All went south in my calculation\n",
      "Traceback (most recent call last):\n",
      "  File \"<ipython-input-8-ccd7d25e79b7>\", line 2, in <module>\n",
      "    path_calculation = 1 / 0\n",
      "ZeroDivisionError: division by zero\n"
     ]
    }
   ],
   "source": [
    "try:\n",
    "    path_calculation = 1 / 0\n",
    "except ZeroDivisionError:\n",
    "    logging.exception('All went south in my calculation')"
   ]
  },
  {
   "cell_type": "markdown",
   "metadata": {},
   "source": [
    "### Formatting log entries"
   ]
  },
  {
   "cell_type": "code",
   "execution_count": 9,
   "metadata": {},
   "outputs": [
    {
     "name": "stderr",
     "output_type": "stream",
     "text": [
      "2018-11-19 16:31:12,847 | MyLogger     | WARNING    | Something bad is going to happen\n",
      "2018-11-19 16:31:12,849 | MyLogger     | ERROR      | Uups, it already happened\n"
     ]
    }
   ],
   "source": [
    "import logging\n",
    "\n",
    "# This is only required for Jupyter notebook environment\n",
    "from importlib import reload\n",
    "reload(logging)\n",
    "\n",
    "my_format = '%(asctime)s | %(name)-12s | %(levelname)-10s | %(message)s'\n",
    "logging.basicConfig(format=my_format)\n",
    "\n",
    "logger = logging.getLogger('MyLogger')\n",
    "\n",
    "logger.warning('Something bad is going to happen')\n",
    "logger.error('Uups, it already happened')"
   ]
  },
  {
   "cell_type": "markdown",
   "metadata": {},
   "source": [
    "### Logging to a file"
   ]
  },
  {
   "cell_type": "code",
   "execution_count": 10,
   "metadata": {},
   "outputs": [],
   "source": [
    "import os\n",
    "import logging\n",
    "\n",
    "# This is only required for Jupyter notebook environment\n",
    "from importlib import reload\n",
    "reload(logging)\n",
    "\n",
    "logger = logging.getLogger('MyFileLogger')\n",
    "\n",
    "# Let's define a file_handler for our logger\n",
    "log_path = os.path.join(os.getcwd(), 'my_log.txt')\n",
    "file_handler = logging.FileHandler(log_path)\n",
    "\n",
    "# And a nice format\n",
    "formatter = logging.Formatter('%(asctime)s | %(name)-12s | %(levelname)-10s | %(message)s')\n",
    "file_handler.setFormatter(formatter)\n",
    "\n",
    "logger.addHandler(file_handler)\n",
    "\n",
    "# If you want to see it also in the console, add another handler for it\n",
    "# logger.addHandler(logging.StreamHandler())\n",
    "\n",
    "logger.warning('Oops something is going to happen')\n",
    "logger.error('John Doe visits our place')"
   ]
  },
  {
   "cell_type": "markdown",
   "metadata": {},
   "source": [
    "## [`random`](https://docs.python.org/3/library/random.html) for random number generation"
   ]
  },
  {
   "cell_type": "code",
   "execution_count": 11,
   "metadata": {},
   "outputs": [
    {
     "name": "stdout",
     "output_type": "stream",
     "text": [
      "random integer between 1-100: 2\n",
      "random float between 0-1: 0.725646178226741\n"
     ]
    }
   ],
   "source": [
    "import random\n",
    "\n",
    "rand_int = random.randint(1, 100)\n",
    "print('random integer between 1-100: {}'.format(rand_int))\n",
    "\n",
    "rand = random.random()\n",
    "print('random float between 0-1: {}'.format(rand))"
   ]
  },
  {
   "cell_type": "markdown",
   "metadata": {},
   "source": [
    "If you need pseudo random numbers, you can set the `seed` for random. This will reproduce the output (try running the cell multiple times):"
   ]
  },
  {
   "cell_type": "code",
   "execution_count": 12,
   "metadata": {},
   "outputs": [
    {
     "name": "stdout",
     "output_type": "stream",
     "text": [
      "0.6229016948897019\n",
      "0.7417869892607294\n",
      "0.7951935655656966\n",
      "0.9424502837770503\n",
      "0.7398985747399307\n",
      "0.922324996665417\n",
      "0.029005228283614737\n",
      "0.46562265437810535\n",
      "0.9433567169983137\n",
      "0.6489745531369242\n"
     ]
    }
   ],
   "source": [
    "import random\n",
    "\n",
    "random.seed(5)  # Setting the seed\n",
    "\n",
    "# Let's print 10 random numbers\n",
    "for _ in range(10):\n",
    "    print(random.random())"
   ]
  },
  {
   "cell_type": "markdown",
   "metadata": {},
   "source": [
    "## [`re`](https://docs.python.org/3/library/re.html#module-re) for regular expressions"
   ]
  },
  {
   "cell_type": "markdown",
   "metadata": {},
   "source": [
    "### Searching occurences"
   ]
  },
  {
   "cell_type": "code",
   "execution_count": 13,
   "metadata": {},
   "outputs": [
    {
     "name": "stdout",
     "output_type": "stream",
     "text": [
      "match: <_sre.SRE_Match object; span=(9, 12), match='g12'>\n",
      "match.group(): g12\n",
      "numbers: ['8', '1', '2', '5', '0', '9']\n"
     ]
    }
   ],
   "source": [
    "import re\n",
    "\n",
    "secret_code = 'qwret 8sfg12f5 fd09f_df'\n",
    "# \"r\" at the beginning means raw format, use it with regular expression patterns\n",
    "search_pattern = r'(g12)' \n",
    "\n",
    "match = re.search(search_pattern, secret_code)\n",
    "print('match: {}'.format(match))\n",
    "print('match.group(): {}'.format(match.group()))\n",
    "\n",
    "numbers_pattern = r'[0-9]'\n",
    "numbers_match = re.findall(numbers_pattern, secret_code)\n",
    "print('numbers: {}'.format(numbers_match))"
   ]
  },
  {
   "cell_type": "markdown",
   "metadata": {},
   "source": [
    "### Variable validation"
   ]
  },
  {
   "cell_type": "code",
   "execution_count": null,
   "metadata": {},
   "outputs": [],
   "source": [
    "import re\n",
    "\n",
    "def validate_only_lower_case_letters(to_validate):\n",
    "    pattern = r'^[a-z]+$'\n",
    "    return bool(re.match(pattern, to_validate))\n",
    "\n",
    "print(validate_only_lower_case_letters('thisshouldbeok'))\n",
    "print(validate_only_lower_case_letters('thisshould notbeok'))\n",
    "print(validate_only_lower_case_letters('Thisshouldnotbeok'))\n",
    "print(validate_only_lower_case_letters('thisshouldnotbeok1'))\n",
    "print(validate_only_lower_case_letters(''))"
   ]
  }
 ],
 "metadata": {
  "kernelspec": {
   "display_name": "Python 3",
   "language": "python",
   "name": "python3"
  },
  "language_info": {
   "codemirror_mode": {
    "name": "ipython",
    "version": 3
   },
   "file_extension": ".py",
   "mimetype": "text/x-python",
   "name": "python",
   "nbconvert_exporter": "python",
   "pygments_lexer": "ipython3",
   "version": "3.7.0"
  }
 },
 "nbformat": 4,
 "nbformat_minor": 2
}
