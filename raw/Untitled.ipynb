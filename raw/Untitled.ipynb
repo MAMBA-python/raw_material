{
 "cells": [
  {
   "cell_type": "code",
   "execution_count": 1,
   "metadata": {},
   "outputs": [],
   "source": [
    "import pandas as pd\n",
    "from pyconvenience import dataio\n"
   ]
  },
  {
   "cell_type": "code",
   "execution_count": 9,
   "metadata": {},
   "outputs": [],
   "source": [
    "machine_learning_df =pd.read_excel(r\"C:\\Users\\Petra Izeboud\\Documents\\Pion\\Floodtags\\O15AC\\kinshasa_events_mamba.xlsx\")"
   ]
  },
  {
   "cell_type": "code",
   "execution_count": 10,
   "metadata": {},
   "outputs": [
    {
     "data": {
      "text/html": [
       "<div>\n",
       "<style scoped>\n",
       "    .dataframe tbody tr th:only-of-type {\n",
       "        vertical-align: middle;\n",
       "    }\n",
       "\n",
       "    .dataframe tbody tr th {\n",
       "        vertical-align: top;\n",
       "    }\n",
       "\n",
       "    .dataframe thead th {\n",
       "        text-align: right;\n",
       "    }\n",
       "</style>\n",
       "<table border=\"1\" class=\"dataframe\">\n",
       "  <thead>\n",
       "    <tr style=\"text-align: right;\">\n",
       "      <th></th>\n",
       "      <th>publication_date</th>\n",
       "      <th>loc.focus</th>\n",
       "      <th>dmg.ppl.aff</th>\n",
       "      <th>start</th>\n",
       "      <th>end</th>\n",
       "      <th>merged_count</th>\n",
       "      <th>url</th>\n",
       "    </tr>\n",
       "  </thead>\n",
       "  <tbody>\n",
       "    <tr>\n",
       "      <th>14</th>\n",
       "      <td>['2017-01-09', '2017-01-09', '2018-01-06', '20...</td>\n",
       "      <td>['Kinshasa',  'avenue Kasa Vubu']</td>\n",
       "      <td>['plusieurs mÃ©nages', 'plusieurs mÃ©nages', '...</td>\n",
       "      <td>2016-12-30</td>\n",
       "      <td>2017-02-08</td>\n",
       "      <td>30</td>\n",
       "      <td>['http://www.congoactuel.com/kinshasa-une-mega...</td>\n",
       "    </tr>\n",
       "    <tr>\n",
       "      <th>15</th>\n",
       "      <td>['2017-12-28', '2017-12-22', '2017-12-22', '20...</td>\n",
       "      <td>['Kinshasa', 'Lingwala', 'Ndanu']</td>\n",
       "      <td>NaN</td>\n",
       "      <td>2017-12-15</td>\n",
       "      <td>2018-01-18</td>\n",
       "      <td>56</td>\n",
       "      <td>['https://www.journaldekinshasa.com/inondation...</td>\n",
       "    </tr>\n",
       "    <tr>\n",
       "      <th>16</th>\n",
       "      <td>['2018-06-01', '2018-06-01', '2018-06-01', '20...</td>\n",
       "      <td>['Kinshasa', 'Barumbu']</td>\n",
       "      <td>NaN</td>\n",
       "      <td>2018-05-25</td>\n",
       "      <td>2018-06-01</td>\n",
       "      <td>4</td>\n",
       "      <td>['https://www.lecongolais.cd/kinshasa-continue...</td>\n",
       "    </tr>\n",
       "    <tr>\n",
       "      <th>17</th>\n",
       "      <td>['2017-08-16', '2017-08-15', '2015-12-15', '20...</td>\n",
       "      <td>[ 'Kinshasa', 'Matadi']</td>\n",
       "      <td>['quelque 9000', 'quelque 9.000', 'quelque 900...</td>\n",
       "      <td>2010-01-01</td>\n",
       "      <td>2011-12-31</td>\n",
       "      <td>23</td>\n",
       "      <td>['http://7sur7.cd/new/lire-lintegralite-du-dis...</td>\n",
       "    </tr>\n",
       "    <tr>\n",
       "      <th>18</th>\n",
       "      <td>['2015-10-12', '2015-12-08', '2015-12-09', '20...</td>\n",
       "      <td>['Matete', 'Kisangani', 'Matete', 'Kenya', 'Ki...</td>\n",
       "      <td>['plus 350 000', 'plus 350 000', 'quelque 9000...</td>\n",
       "      <td>2015-01-01</td>\n",
       "      <td>2015-12-31</td>\n",
       "      <td>109</td>\n",
       "      <td>['https://www.lecongolais.cd/dialogue-kabilist...</td>\n",
       "    </tr>\n",
       "  </tbody>\n",
       "</table>\n",
       "</div>"
      ],
      "text/plain": [
       "                                     publication_date  \\\n",
       "14  ['2017-01-09', '2017-01-09', '2018-01-06', '20...   \n",
       "15  ['2017-12-28', '2017-12-22', '2017-12-22', '20...   \n",
       "16  ['2018-06-01', '2018-06-01', '2018-06-01', '20...   \n",
       "17  ['2017-08-16', '2017-08-15', '2015-12-15', '20...   \n",
       "18  ['2015-10-12', '2015-12-08', '2015-12-09', '20...   \n",
       "\n",
       "                                            loc.focus  \\\n",
       "14                  ['Kinshasa',  'avenue Kasa Vubu']   \n",
       "15                  ['Kinshasa', 'Lingwala', 'Ndanu']   \n",
       "16                            ['Kinshasa', 'Barumbu']   \n",
       "17                            [ 'Kinshasa', 'Matadi']   \n",
       "18  ['Matete', 'Kisangani', 'Matete', 'Kenya', 'Ki...   \n",
       "\n",
       "                                          dmg.ppl.aff      start        end  \\\n",
       "14  ['plusieurs mÃ©nages', 'plusieurs mÃ©nages', '... 2016-12-30 2017-02-08   \n",
       "15                                                NaN 2017-12-15 2018-01-18   \n",
       "16                                                NaN 2018-05-25 2018-06-01   \n",
       "17  ['quelque 9000', 'quelque 9.000', 'quelque 900... 2010-01-01 2011-12-31   \n",
       "18  ['plus 350 000', 'plus 350 000', 'quelque 9000... 2015-01-01 2015-12-31   \n",
       "\n",
       "    merged_count                                                url  \n",
       "14            30  ['http://www.congoactuel.com/kinshasa-une-mega...  \n",
       "15            56  ['https://www.journaldekinshasa.com/inondation...  \n",
       "16             4  ['https://www.lecongolais.cd/kinshasa-continue...  \n",
       "17            23  ['http://7sur7.cd/new/lire-lintegralite-du-dis...  \n",
       "18           109  ['https://www.lecongolais.cd/dialogue-kabilist...  "
      ]
     },
     "execution_count": 10,
     "metadata": {},
     "output_type": "execute_result"
    }
   ],
   "source": [
    "machine_learning_df.tail()"
   ]
  }
 ],
 "metadata": {
  "kernelspec": {
   "display_name": "Python 3",
   "language": "python",
   "name": "python3"
  },
  "language_info": {
   "codemirror_mode": {
    "name": "ipython",
    "version": 3
   },
   "file_extension": ".py",
   "mimetype": "text/x-python",
   "name": "python",
   "nbconvert_exporter": "python",
   "pygments_lexer": "ipython3",
   "version": "3.6.6"
  }
 },
 "nbformat": 4,
 "nbformat_minor": 2
}
