{
 "cells": [
  {
   "cell_type": "markdown",
   "metadata": {},
   "source": [
    "<figure>\n",
    "   <IMG SRC=\"https://mamba-python.nl/images/logo_basis.png\" WIDTH=125 ALIGN=\"right\">\n",
    "</figure>\n",
    "    \n",
    "# Whatsapp analysis\n",
    "\n",
    "developed by Onno Ebbens\n",
    "\n",
    "\n",
    "\n",
    "this notebook is created for the Mamba python course as an example for big data analysis."
   ]
  },
  {
   "cell_type": "markdown",
   "metadata": {},
   "source": [
    "table of content:<a class=\"anchor\" id=\"0\"></a>\n",
    "1. [import files](#1)\n",
    "2. [read whatsapp data](#2)\n",
    "3. [convert to hourly messages](#3)\n",
    "4. [plot data](#4)"
   ]
  },
  {
   "cell_type": "markdown",
   "metadata": {},
   "source": [
    "## 1. import files<a class=\"anchor\" id=\"1\"></a>"
   ]
  },
  {
   "cell_type": "code",
   "execution_count": 1,
   "metadata": {},
   "outputs": [],
   "source": [
    "import matplotlib.pyplot as plt\n",
    "import zipfile\n",
    "import os\n",
    "import pandas as pd\n",
    "import wordcloud"
   ]
  },
  {
   "cell_type": "code",
   "execution_count": 2,
   "metadata": {},
   "outputs": [],
   "source": [
    "#settings\n",
    "%matplotlib inline\n",
    "plt.style.use('seaborn')"
   ]
  },
  {
   "cell_type": "markdown",
   "metadata": {},
   "source": [
    "## 2. read whatsapp data <a class=\"anchor\" id=\"2\"></a>\n",
    "because of privacy issues I did not include the zip file in the GIT repository. You can use your own export zip file or use the anonymised pandas dataframe file: \"_chat_df.csv\""
   ]
  },
  {
   "cell_type": "code",
   "execution_count": 3,
   "metadata": {},
   "outputs": [
    {
     "name": "stdout",
     "output_type": "stream",
     "text": [
      "_chat.txt\n"
     ]
    }
   ],
   "source": [
    "whatsapp_zip = r'data\\WhatsApp Chat - xxx xxx.zip'\n",
    "\n",
    "zip_ref = zipfile.ZipFile(whatsapp_zip, 'r')\n",
    "zip_ref.extractall(os.path.split(whatsapp_zip)[0])\n",
    "zip_ref.close()\n",
    "\n",
    "for file in os.listdir(\"data\"):\n",
    "    if file.endswith(\".txt\"):\n",
    "        whatsapp_txt = os.path.join(\"data\", file)\n",
    "        print(file)"
   ]
  },
  {
   "cell_type": "code",
   "execution_count": 4,
   "metadata": {
    "collapsed": true
   },
   "outputs": [],
   "source": [
    "#find usernames\n",
    "user_names = []\n",
    "with open(whatsapp_txt, 'r', encoding=\"utf8\") as fo:\n",
    "    for line in fo:\n",
    "        if line.startswith('['):\n",
    "            user_name = line[23:].split(':')[0]\n",
    "            if user_name not in user_names:\n",
    "                user_names.append(user_name)"
   ]
  },
  {
   "cell_type": "code",
   "execution_count": 5,
   "metadata": {
    "collapsed": true
   },
   "outputs": [],
   "source": [
    "#create dataframe with time, user and text\n",
    "datetime_list = []\n",
    "user_list     = []\n",
    "text_list     = []      \n",
    "with open(whatsapp_txt, 'r', encoding=\"utf8\") as fo:\n",
    "    for line in fo:\n",
    "        if line.startswith('['):\n",
    "            datetime_list.append(line[1:21])\n",
    "            for user_name in user_names:\n",
    "                if line[23:].startswith(user_name):\n",
    "                    user_list.append(user_name)\n",
    "                    text_list.append(line[len(user_name)+25:])\n",
    "        else:\n",
    "            # this is necesary for using messages with multiple lines\n",
    "            text_list[-1] = text_list[-1] + line\n",
    "\n",
    "time_user_df = pd.DataFrame(data={'user':user_list, \n",
    "                                  'text':text_list, \n",
    "                                  'message':[1]*len(user_list)}, \n",
    "                            index=pd.to_datetime(datetime_list))\n",
    "time_user_df[['user','message']].to_csv(r'data\\_chat_df.csv')"
   ]
  },
  {
   "cell_type": "code",
   "execution_count": 6,
   "metadata": {
    "scrolled": true
   },
   "outputs": [
    {
     "data": {
      "text/html": [
       "<div>\n",
       "<style scoped>\n",
       "    .dataframe tbody tr th:only-of-type {\n",
       "        vertical-align: middle;\n",
       "    }\n",
       "\n",
       "    .dataframe tbody tr th {\n",
       "        vertical-align: top;\n",
       "    }\n",
       "\n",
       "    .dataframe thead th {\n",
       "        text-align: right;\n",
       "    }\n",
       "</style>\n",
       "<table border=\"1\" class=\"dataframe\">\n",
       "  <thead>\n",
       "    <tr style=\"text-align: right;\">\n",
       "      <th></th>\n",
       "      <th>user</th>\n",
       "      <th>message</th>\n",
       "    </tr>\n",
       "  </thead>\n",
       "  <tbody>\n",
       "    <tr>\n",
       "      <th>2018-03-22 12:18:07</th>\n",
       "      <td>user1</td>\n",
       "      <td>1</td>\n",
       "    </tr>\n",
       "    <tr>\n",
       "      <th>2018-03-22 12:18:07</th>\n",
       "      <td>user1</td>\n",
       "      <td>1</td>\n",
       "    </tr>\n",
       "    <tr>\n",
       "      <th>2018-03-22 12:18:19</th>\n",
       "      <td>user1</td>\n",
       "      <td>1</td>\n",
       "    </tr>\n",
       "    <tr>\n",
       "      <th>2018-03-22 14:39:57</th>\n",
       "      <td>user2</td>\n",
       "      <td>1</td>\n",
       "    </tr>\n",
       "    <tr>\n",
       "      <th>2018-03-22 14:40:03</th>\n",
       "      <td>user2</td>\n",
       "      <td>1</td>\n",
       "    </tr>\n",
       "  </tbody>\n",
       "</table>\n",
       "</div>"
      ],
      "text/plain": [
       "                      user  message\n",
       "2018-03-22 12:18:07  user1        1\n",
       "2018-03-22 12:18:07  user1        1\n",
       "2018-03-22 12:18:19  user1        1\n",
       "2018-03-22 14:39:57  user2        1\n",
       "2018-03-22 14:40:03  user2        1"
      ]
     },
     "execution_count": 6,
     "metadata": {},
     "output_type": "execute_result"
    }
   ],
   "source": [
    "#read dataframe\n",
    "time_user_df = pd.read_csv(r'data\\_chat_df.csv', index_col=0, parse_dates=True)\n",
    "time_user_df.head()"
   ]
  },
  {
   "cell_type": "markdown",
   "metadata": {},
   "source": [
    "## 3. convert to hourly messages<a class=\"anchor\" id=\"3\"></a>"
   ]
  },
  {
   "cell_type": "code",
   "execution_count": 7,
   "metadata": {
    "collapsed": true
   },
   "outputs": [],
   "source": [
    "time_user_df['hour'] = time_user_df.index.hour\n",
    "\n",
    "hourly_messages_df_list = []\n",
    "for user in time_user_df.user.unique():\n",
    "    hourly_messages_df_list.append(time_user_df[time_user_df.user==user].groupby(by='hour').sum())"
   ]
  },
  {
   "cell_type": "markdown",
   "metadata": {},
   "source": [
    "## 4. plot data<a class=\"anchor\" id=\"4\"></a>"
   ]
  },
  {
   "cell_type": "code",
   "execution_count": 9,
   "metadata": {
    "scrolled": true
   },
   "outputs": [
    {
     "data": {
      "image/png": "[encoded data removed]",
      "text/plain": [
       "<matplotlib.figure.Figure at 0x217462ddd68>"
      ]
     },
     "metadata": {},
     "output_type": "display_data"
    }
   ],
   "source": [
    "# plot\n",
    "fig = plt.figure(figsize=(16,16/2.75))\n",
    "ax = plt.subplot()\n",
    "\n",
    "# plot average\n",
    "ax.bar(hourly_messages_df_list[0].index+0.6, hourly_messages_df_list[0].message, width=0.2, align='center', label='user1')\n",
    "ax.bar(hourly_messages_df_list[1].index+0.4, hourly_messages_df_list[1].message, width=0.2, label='user2')\n",
    "\n",
    "# format axes\n",
    "ax.set_xlabel('Time (hour)')\n",
    "ax.set_ylabel('messages', fontsize=12)\n",
    "ax.set_xlim(-0,24)\n",
    "ax.set_xticks(range(25))\n",
    "\n",
    "# format legend\n",
    "box = ax.get_position()\n",
    "ax.set_position([box.x0, box.y0 + box.height * 0.1,\n",
    "                 box.width, box.height * 0.9])\n",
    "\n",
    "# Put a legend below current axis\n",
    "leg = ax.legend(loc='upper center', bbox_to_anchor=(0.5, -0.11),\n",
    "                frameon=True, facecolor='white', edgecolor='black', shadow=True, ncol=5)\n",
    "\n",
    "# create title\n",
    "start_date = time_user_df.index[0].strftime('%d-%b-%Y')\n",
    "end_date   = time_user_df.index[-1].strftime('%d-%b-%Y')\n",
    "ax.set_title('whatsapp messages per hour of the day between %s and %s'%(start_date, end_date))\n",
    "\n",
    "# save figure\n",
    "fig.savefig(r'figures\\whatsapp_message_analysis.png', bbox_inches='tight')"
   ]
  },
  {
   "cell_type": "code",
   "execution_count": null,
   "metadata": {
    "collapsed": true
   },
   "outputs": [],
   "source": []
  }
 ],
 "metadata": {
  "kernelspec": {
   "display_name": "Python [default]",
   "language": "python",
   "name": "python3"
  },
  "language_info": {
   "codemirror_mode": {
    "name": "ipython",
    "version": 3
   },
   "file_extension": ".py",
   "mimetype": "text/x-python",
   "name": "python",
   "nbconvert_exporter": "python",
   "pygments_lexer": "ipython3",
   "version": "3.6.3"
  }
 },
 "nbformat": 4,
 "nbformat_minor": 2
}
