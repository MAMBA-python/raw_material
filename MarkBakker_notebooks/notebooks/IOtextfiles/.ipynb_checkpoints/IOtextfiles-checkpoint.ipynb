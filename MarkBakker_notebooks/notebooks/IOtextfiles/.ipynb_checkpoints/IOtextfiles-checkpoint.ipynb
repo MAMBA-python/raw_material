{
 "cells": [
  {
   "cell_type": "markdown",
   "metadata": {},
   "source": [
    "<figure>\n",
    "  <IMG SRC=\"https://mamba-python.nl/images/logo_basis.png\" WIDTH=150 ALIGN=\"right\">\n",
    "</figure>\n",
    "\n",
    "# Reading and writing text files\n",
    "*Developed by Onno Ebbens*"
   ]
  },
  {
   "cell_type": "markdown",
   "metadata": {},
   "source": [
    "Reading and writing text files can be very useful. There are many ways to read and write files from all kinds of formats. In this notebook we will discuss reading and writing text files.\n",
    "\n",
    "Table of content:\n",
    "1. [reading text files](#1)\n",
    "2. [advanced text file reading](#2)\n",
    "3. [writing text files](#3)\n",
    "4. [advanced text file writing](#4)\n",
    "5. [final exercises](#5)"
   ]
  },
  {
   "cell_type": "markdown",
   "metadata": {},
   "source": [
    "\n",
    "## 1. reading text files <a class=\"anchor\" id=\"1\"></a>"
   ]
  },
  {
   "cell_type": "markdown",
   "metadata": {},
   "source": [
    "There are several ways to read a text file. The most basic way is to use the function open(). This function opens a text file and returns a handle to that text file. If you use the open() function you need to specify whether you want to read ('r') or write ('w') to that text file.\n",
    "\n",
    "We use a 'with-statement' to read the file. This means that everything after the with-statement, with the same indentation, will be executed and then the document is closed again. If we would not do this, the document will be opened continuously by python which can be the cause of some unsuspected errors.\n",
    "\n",
    "with the readlines() method we read the text file as a list of strings."
   ]
  },
  {
   "cell_type": "code",
   "execution_count": null,
   "metadata": {
    "collapsed": true
   },
   "outputs": [],
   "source": [
    "#this lines creates a handle to the textfile\n",
    "with open(r'data\\InhabitantsNL.txt', 'r') as txtfile:\n",
    "    lines = txtfile.readlines()\n",
    "lines"
   ]
  },
  {
   "cell_type": "markdown",
   "metadata": {},
   "source": [
    "**Exercise 1**: Open the 'InhabitantsNL.txt' with a textfile editor and compare your results with the list shown above. What does the '\\t' means in your textfile? What does the '\\n' means?"
   ]
  },
  {
   "cell_type": "markdown",
   "metadata": {
    "collapsed": true
   },
   "source": []
  },
  {
   "cell_type": "markdown",
   "metadata": {},
   "source": [
    "There are several methods to read textfiles. One that is often used is the readline() method. This method reads one line at a time which can be usefull if you only want to read the top part of a big text file."
   ]
  },
  {
   "cell_type": "code",
   "execution_count": null,
   "metadata": {
    "collapsed": true
   },
   "outputs": [],
   "source": [
    "with open(r'data\\InhabitantsNL.txt', 'r') as txtfile:\n",
    "    first_line  = txtfile.readline()\n",
    "    second_line = txtfile.readline()  \n",
    "print(first_line)\n",
    "print(second_line)"
   ]
  },
  {
   "cell_type": "markdown",
   "metadata": {},
   "source": [
    "Now if you want to do use the numbers from the text file you need to convert the text strings to something you can use. For example if you want to plot this data you can do the following."
   ]
  },
  {
   "cell_type": "code",
   "execution_count": null,
   "metadata": {
    "collapsed": true
   },
   "outputs": [],
   "source": [
    "#We want two lists with numbers that we can plot. \n",
    "#We can make these with a for loop.\n",
    "year = []\n",
    "inhab = []\n",
    "#We loop over the lines in the textfilelist (we skip the first line because it does not contain data)\n",
    "for line in lines[1:]:\n",
    "    #we know that the first 4 characters are the year, so we slice this and convert to an integer\n",
    "    year.append(int(line[:4]))\n",
    "    #we also know where we can find the number of inhabitants, so we slice and convert to a float\n",
    "    inhab.append(float(line[6:12]))"
   ]
  },
  {
   "cell_type": "code",
   "execution_count": null,
   "metadata": {
    "collapsed": true
   },
   "outputs": [],
   "source": [
    "#now we have to lists\n",
    "print(year)\n",
    "print(inhab)"
   ]
  },
  {
   "cell_type": "code",
   "execution_count": null,
   "metadata": {
    "collapsed": true
   },
   "outputs": [],
   "source": [
    "#now we can make a plot\n",
    "import matplotlib.pyplot as plt\n",
    "%matplotlib inline\n",
    "ax = plt.plot(year,inhab)"
   ]
  },
  {
   "cell_type": "markdown",
   "metadata": {},
   "source": [
    "## 2. Advanced textfile reading<a class=\"anchor\" id=\"2\"></a>"
   ]
  },
  {
   "cell_type": "markdown",
   "metadata": {},
   "source": [
    "The example above shows the most basic way of reading files. With this functions you can read any file that contains text. For textfiles with a certain structure there are easier ways to read them. Below we show two from the numpy and the pandas module."
   ]
  },
  {
   "cell_type": "code",
   "execution_count": null,
   "metadata": {
    "collapsed": true
   },
   "outputs": [],
   "source": [
    "#From the numpy module you can direcly read text as a numpy array\n",
    "import numpy as np\n",
    "#you only need to specify how many rows you skip to see the data\n",
    "#in this case you skip the first row because it only contains the column names\n",
    "TextFileArray = np.loadtxt('data\\InhabitantsNL.txt',skiprows=1)"
   ]
  },
  {
   "cell_type": "markdown",
   "metadata": {},
   "source": [
    "**Exercise 2**: Plot the data that is read with the np.loadtxt() function"
   ]
  },
  {
   "cell_type": "code",
   "execution_count": null,
   "metadata": {
    "collapsed": true
   },
   "outputs": [],
   "source": []
  },
  {
   "cell_type": "markdown",
   "metadata": {},
   "source": [
    "Still, we haven't fully optimized reading a textfile. We lost the information about the columns names when we read the data with np.loadtxt(). Wouldn't it be nice if we could use all the information in the textfile? "
   ]
  },
  {
   "cell_type": "markdown",
   "metadata": {},
   "source": [
    "Yes! That would be amazing:) With Pandas you can do exactly that!"
   ]
  },
  {
   "cell_type": "code",
   "execution_count": null,
   "metadata": {
    "collapsed": true
   },
   "outputs": [],
   "source": [
    "import pandas as pd\n",
    "#With pandas you can read files as a dataframe\n",
    "#The only thing you need to specify is the delimiter. In this case the numbers are delimited with a tab ('\\t')\n",
    "TextFileDF = pd.read_csv('data\\InhabitantsNL.txt', delimiter='\\t')"
   ]
  },
  {
   "cell_type": "code",
   "execution_count": null,
   "metadata": {
    "collapsed": true
   },
   "outputs": [],
   "source": [
    "#This is what a dataframe looks like\n",
    "TextFileDF"
   ]
  },
  {
   "cell_type": "markdown",
   "metadata": {},
   "source": [
    "**Exercise 3**: What happens if you use plt.plot() on a Dataframe? What has happened? How can you make a plot? "
   ]
  },
  {
   "cell_type": "code",
   "execution_count": null,
   "metadata": {
    "collapsed": true
   },
   "outputs": [],
   "source": [
    "plt.plot(TextFileDF)"
   ]
  },
  {
   "cell_type": "code",
   "execution_count": null,
   "metadata": {
    "collapsed": true
   },
   "outputs": [],
   "source": []
  },
  {
   "cell_type": "markdown",
   "metadata": {},
   "source": [
    "## 3. writing text files<a class=\"anchor\" id=\"3\"></a>"
   ]
  },
  {
   "cell_type": "markdown",
   "metadata": {},
   "source": [
    "Just like reading textfiles there is also a basic way to write textfiles."
   ]
  },
  {
   "cell_type": "code",
   "execution_count": null,
   "metadata": {
    "collapsed": true
   },
   "outputs": [],
   "source": [
    "with open(r\"output\\output.txt\", \"w\") as txtfile:\n",
    "    txtfile.write('hello world')"
   ]
  },
  {
   "cell_type": "markdown",
   "metadata": {},
   "source": [
    "**Exercise 4**: How do you write the TextFileList (the one you read before) to the \"output.txt\" file?"
   ]
  },
  {
   "cell_type": "code",
   "execution_count": null,
   "metadata": {
    "collapsed": true
   },
   "outputs": [],
   "source": []
  },
  {
   "cell_type": "markdown",
   "metadata": {},
   "source": [
    "## 4. Advanced textfile writing<a class=\"anchor\" id=\"4\"></a>"
   ]
  },
  {
   "cell_type": "markdown",
   "metadata": {},
   "source": [
    "Off course you can use advanced writing functions if you want to save different data types"
   ]
  },
  {
   "cell_type": "markdown",
   "metadata": {},
   "source": [
    "**Exercise 5**: How would you write a numpy array to a textfile?"
   ]
  },
  {
   "cell_type": "code",
   "execution_count": null,
   "metadata": {
    "collapsed": true
   },
   "outputs": [],
   "source": []
  },
  {
   "cell_type": "markdown",
   "metadata": {},
   "source": [
    "**Exercise 6**: How do you write a pandas dataframe to a textfile?"
   ]
  },
  {
   "cell_type": "code",
   "execution_count": null,
   "metadata": {
    "collapsed": true
   },
   "outputs": [],
   "source": []
  },
  {
   "cell_type": "markdown",
   "metadata": {},
   "source": [
    "## 5. final exercises<a class=\"anchor\" id=\"5\"></a>"
   ]
  },
  {
   "cell_type": "markdown",
   "metadata": {},
   "source": [
    "**Exercise 7**: Write a function that can read a file similar to \"InhabitantsNL.txt\" and make a plot(). You can assume that the left column contains years and the right column contains data."
   ]
  },
  {
   "cell_type": "code",
   "execution_count": null,
   "metadata": {
    "collapsed": true
   },
   "outputs": [],
   "source": []
  }
 ],
 "metadata": {
  "kernelspec": {
   "display_name": "Python [default]",
   "language": "python",
   "name": "python3"
  },
  "language_info": {
   "codemirror_mode": {
    "name": "ipython",
    "version": 3
   },
   "file_extension": ".py",
   "mimetype": "text/x-python",
   "name": "python",
   "nbconvert_exporter": "python",
   "pygments_lexer": "ipython3",
   "version": "3.6.3"
  }
 },
 "nbformat": 4,
 "nbformat_minor": 1
}
