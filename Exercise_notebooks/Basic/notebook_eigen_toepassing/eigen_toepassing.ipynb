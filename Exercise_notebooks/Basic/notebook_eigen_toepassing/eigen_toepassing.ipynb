{
 "cells": [
  {
   "cell_type": "markdown",
   "metadata": {},
   "source": [
    "<figure>\n",
    "   <IMG SRC=\"https://mamba-python.nl/images/logo_basis.png\" WIDTH=125 ALIGN=\"right\">\n",
    "   \n",
    "</figure>\n",
    "\n",
    "# Eigen toepassing\n",
    "\n",
    "<br>"
   ]
  },
  {
   "cell_type": "markdown",
   "metadata": {},
   "source": [
    "Een belangrijk onderdeel van de cursus is het werken aan je eigen Python toepassing. \n",
    "Vandaar dat we al op de eerste cursusdag starten met het werken aan je eigen toepassing. In dit document is per cursusdag aangegeven wat je kan doen.\n",
    "\n",
    "De bedoeling is dat je werkt in deze notebook en het resultaat aan het eind van de cursusdag opstuurt naar info@mamba-python.nl. Hierbij ook graag alle bestanden die je gebruikt voor je toepassing meesturen (indien <10 mb). Wanneer je liever in een andere Python omgeving (bijv. Spyder) werkt dan kan dat ook, stuur in dat geval ook de .py bestanden mee."
   ]
  },
  {
   "cell_type": "markdown",
   "metadata": {},
   "source": [
    "## Inhoudsopgave<a class=\"anchor\" id=\"inhoudsopgave\"></a>\n",
    "[Cursusdag 1](#cursusdag1)\n",
    "1. [Begrippenlijst](#begrippenlijst)\n",
    "2. [Eigen toepassing](#eigentoepassing)\n",
    "3. [Stappenplan](#stappenplan)"
   ]
  },
  {
   "cell_type": "markdown",
   "metadata": {},
   "source": [
    "## Cursusdag 1<a class=\"anchor\" id=\"cursusdag1\"></a>\n",
    "De eerste cursusdag bestaat uit 3 opdrachten:\n",
    "1. Houdt een [begrippenlijst](#begrippenlijst) bij.\n",
    "2. Bedenk je [eigen toepassing](#eigentoepassing) in Python.\n",
    "3. Maak een [stappenplan](#stappenplan) voor je eigen toepassing."
   ]
  },
  {
   "cell_type": "markdown",
   "metadata": {},
   "source": [
    "[inhoudsopgave](#inhoudsopgave)\n",
    "### 1. Begrippenlijst<a class=\"anchor\" id=\"begrippenlijst\"></a>"
   ]
  },
  {
   "cell_type": "markdown",
   "metadata": {},
   "source": [
    "Bij het leren van Python kom je veel termen en begrippen tegen die je (nog) niet begrijpt. Het is handig om deze begrippen bij te houden zodat we daar later op terug kunnen komen. Veel voorkomende begrippen zullen tijdens deze cursus worden behandeld. Je kan deze bijhouden in deze lijst:"
   ]
  },
  {
   "cell_type": "markdown",
   "metadata": {},
   "source": [
    "- \n",
    "-  \n",
    "-  "
   ]
  },
  {
   "cell_type": "markdown",
   "metadata": {},
   "source": [
    "[inhoudsopgave](#inhoudsopgave)\n",
    "### 2. Eigen toepassing<a class=\"anchor\" id=\"eigentoepassing\"></a>"
   ]
  },
  {
   "cell_type": "markdown",
   "metadata": {},
   "source": [
    "Probeer een toepassing te bedenken die nuttig is in je dagelijks werk. Voor inspiratie kan je de voorbeelden van de presentatie gebruiken en kijken op:\n",
    "    - https://docs.python-guide.org/#scenario-guide-for-python-applications\n",
    "    - https://automatetheboringstuff.com/\n",
    "    - https://github.com/jupyter/jupyter/wiki/A-gallery-of-interesting-Jupyter-Notebooks\n",
    "    \n",
    "Beschrijf in het tekstvak hieronder het doel van je toepassing en wat je in- en output zal zijn.\n",
    "\n",
    "Geef ook duidelijk aan als de toepassing niet gedeeld mag worden met de andere cursisten. Wij zorgen dan dat deze vertrouwelijk blijft."
   ]
  },
  {
   "cell_type": "markdown",
   "metadata": {},
   "source": [
    "Doel:\n",
    "\n",
    "input:\n",
    "\n",
    "output:\n"
   ]
  },
  {
   "cell_type": "markdown",
   "metadata": {},
   "source": [
    "[inhoudsopgave](#inhoudsopgave)\n",
    "\n",
    "### 3. Stappenplan <a class=\"anchor\" id=\"stappenplan\"></a>"
   ]
  },
  {
   "cell_type": "markdown",
   "metadata": {},
   "source": [
    "Een belangrijk onderdeel van programmeren is het opdelen van je taken in losse stappen. Geeft in het tekstvak hieronder de stappen aan waarin jouw toepassing kan worden opgedeeld. Een voorbeeld toepassing met stappenplan is [hier](voorbeeld_toepassing.ipynb) te vinden."
   ]
  },
  {
   "cell_type": "markdown",
   "metadata": {},
   "source": []
  },
  {
   "cell_type": "markdown",
   "metadata": {},
   "source": [
    "## Cursusdag 2<a class=\"anchor\" id=\"cursusdag2\"></a>"
   ]
  },
  {
   "cell_type": "code",
   "execution_count": null,
   "metadata": {},
   "outputs": [],
   "source": []
  }
 ],
 "metadata": {
  "kernelspec": {
   "display_name": "Python [default]",
   "language": "python",
   "name": "python3"
  },
  "language_info": {
   "codemirror_mode": {
    "name": "ipython",
    "version": 3
   },
   "file_extension": ".py",
   "mimetype": "text/x-python",
   "name": "python",
   "nbconvert_exporter": "python",
   "pygments_lexer": "ipython3",
   "version": "3.6.3"
  }
 },
 "nbformat": 4,
 "nbformat_minor": 2
}
