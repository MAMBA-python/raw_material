{
 "cells": [
  {
   "cell_type": "markdown",
   "metadata": {},
   "source": [
    "<figure>\n",
    "   <IMG SRC=\"https://mamba-python.nl/images/logo_basis.png\" WIDTH=125 ALIGN=\"right\">\n",
    "</figure>\n",
    "\n",
    "# Groundwater model\n",
    "\n",
    "developed by Onno Ebbens\n",
    "\n",
    "This notebook is created for the Mamba python course to demonstrate how a simple model groundwater model is created by using online metereological data."
   ]
  },
  {
   "cell_type": "markdown",
   "metadata": {},
   "source": [
    "table of content:<a class=\"anchor\" id=\"0\"></a>\n",
    "1. [import files](#1)\n",
    "2. [create groudnwater model](#2)\n",
    "3. [plot results model 2018](#3)\n",
    "4. [create animation](#4)"
   ]
  },
  {
   "cell_type": "markdown",
   "metadata": {},
   "source": [
    "## 1. import files<a class=\"anchor\" id=\"1\"></a>"
   ]
  },
  {
   "cell_type": "code",
   "execution_count": 3,
   "metadata": {},
   "outputs": [],
   "source": [
    "import matplotlib.pyplot as plt\n",
    "import matplotlib.patches as mpatches\n",
    "import matplotlib.animation as animation\n",
    "import matplotlib\n",
    "import matplotlib.dates as mdates\n",
    "import os\n",
    "import pandas as pd\n",
    "import datetime as dt\n",
    "import numpy as np\n",
    "#To run this notebook, you probably should install flopy with 'pip install flopy' in the anaconda prompt\n",
    "import flopy\n",
    "import flopy.utils.binaryfile as bf\n",
    "import groundwater_func as gf\n",
    "#Also install pastas with \"pip install pastas\" in the anaconda prompt\n",
    "import pastas as ps"
   ]
  },
  {
   "cell_type": "code",
   "execution_count": 4,
   "metadata": {},
   "outputs": [],
   "source": [
    "#settings\n",
    "%matplotlib inline\n",
    "plt.style.use('seaborn')"
   ]
  },
  {
   "cell_type": "markdown",
   "metadata": {},
   "source": [
    "[back to TOC](#0)\n",
    "## 2. create groundwater model <a class=\"anchor\" id=\"2\"></a>"
   ]
  },
  {
   "cell_type": "code",
   "execution_count": 5,
   "metadata": {},
   "outputs": [],
   "source": [
    "script_dir    = os.getcwd()\n",
    "workspace     = script_dir + r'\\model'\n",
    "result_folder = script_dir + r'\\results'"
   ]
  },
  {
   "cell_type": "code",
   "execution_count": 6,
   "metadata": {},
   "outputs": [],
   "source": [
    "modelname     = '2018'\n",
    "\n",
    "# time discretisation\n",
    "start_date = dt.datetime(2018,3,1)\n",
    "end_date   = dt.datetime.now() - dt.timedelta(1)\n",
    "steady_start_period=True\n",
    "\n",
    "# creating model grid\n",
    "nlay = 2\n",
    "nrow = 1\n",
    "ncol = 1000\n",
    "\n",
    "delc = 10\n",
    "delr = 1\n",
    "\n",
    "top = 5\n",
    "botm = [-5, -25]\n",
    "\n",
    "# specify soil characteristics\n",
    "hy = 10\n",
    "tran = [1,250]\n",
    "vcont = [0.0001]\n",
    "laycon = [1,3]\n",
    "sf1=0.15\n",
    "\n",
    "# specify starting conditions\n",
    "strt   = 0 \n",
    "fixed_head_bound_layers = [1]\n",
    "\n",
    "# recharge_stn=344, start_step=1, steady_start_recharge=0.0007, create_daily_average_rch=False,\n",
    "# average_rch_start=None, average_rch_end=None"
   ]
  },
  {
   "cell_type": "code",
   "execution_count": 7,
   "metadata": {},
   "outputs": [],
   "source": [
    "ml = gf.create_mf_model(workspace, modelname,\n",
    "                        nlay, nrow, ncol, delc, delr,\n",
    "                        top, botm,\n",
    "                        start_date, end_date, steady_start_period=steady_start_period,\n",
    "                        strt=strt, fixed_head_bound_layers=fixed_head_bound_layers,\n",
    "                        tran=tran, vcont=vcont,\n",
    "                        hy=hy, laycon=laycon, sf1=sf1,\n",
    "                        )\n",
    "\n",
    "#add recharge\n",
    "ml = gf.add_recharge_knmi(ml, start_date, end_date, recharge_stn=260, start_step=1)\n",
    "\n",
    "#add river\n",
    "riv = flopy.modflow.ModflowRiv(ml, \n",
    "                               stress_period_data={0: [[0, 0, 0, 3, 100, 2], [0, 0, ncol-1, 3, 100, 2]]})"
   ]
  },
  {
   "cell_type": "code",
   "execution_count": 8,
   "metadata": {},
   "outputs": [
    {
     "ename": "Exception",
     "evalue": "The program mf2005.exe does not exist or is not executable.",
     "output_type": "error",
     "traceback": [
      "\u001b[1;31m---------------------------------------------------------------------------\u001b[0m",
      "\u001b[1;31mException\u001b[0m                                 Traceback (most recent call last)",
      "\u001b[1;32m<ipython-input-8-58d5cf15cc97>\u001b[0m in \u001b[0;36m<module>\u001b[1;34m()\u001b[0m\n\u001b[0;32m      1\u001b[0m \u001b[0mml\u001b[0m\u001b[1;33m.\u001b[0m\u001b[0mwrite_input\u001b[0m\u001b[1;33m(\u001b[0m\u001b[1;33m)\u001b[0m\u001b[1;33m\u001b[0m\u001b[0m\n\u001b[1;32m----> 2\u001b[1;33m \u001b[0mml\u001b[0m\u001b[1;33m.\u001b[0m\u001b[0mrun_model\u001b[0m\u001b[1;33m(\u001b[0m\u001b[1;33m)\u001b[0m\u001b[1;33m\u001b[0m\u001b[0m\n\u001b[0m",
      "\u001b[1;32mC:\\Anaconda3\\lib\\site-packages\\flopy\\mbase.py\u001b[0m in \u001b[0;36mrun_model\u001b[1;34m(self, silent, pause, report, normal_msg)\u001b[0m\n\u001b[0;32m    968\u001b[0m         return run_model(self.exe_name, self.namefile, model_ws=self.model_ws,\n\u001b[0;32m    969\u001b[0m                          \u001b[0msilent\u001b[0m\u001b[1;33m=\u001b[0m\u001b[0msilent\u001b[0m\u001b[1;33m,\u001b[0m \u001b[0mpause\u001b[0m\u001b[1;33m=\u001b[0m\u001b[0mpause\u001b[0m\u001b[1;33m,\u001b[0m \u001b[0mreport\u001b[0m\u001b[1;33m=\u001b[0m\u001b[0mreport\u001b[0m\u001b[1;33m,\u001b[0m\u001b[1;33m\u001b[0m\u001b[0m\n\u001b[1;32m--> 970\u001b[1;33m                          normal_msg=normal_msg)\n\u001b[0m\u001b[0;32m    971\u001b[0m \u001b[1;33m\u001b[0m\u001b[0m\n\u001b[0;32m    972\u001b[0m     \u001b[1;32mdef\u001b[0m \u001b[0mload_results\u001b[0m\u001b[1;33m(\u001b[0m\u001b[0mself\u001b[0m\u001b[1;33m)\u001b[0m\u001b[1;33m:\u001b[0m\u001b[1;33m\u001b[0m\u001b[0m\n",
      "\u001b[1;32mC:\\Anaconda3\\lib\\site-packages\\flopy\\mbase.py\u001b[0m in \u001b[0;36mrun_model\u001b[1;34m(exe_name, namefile, model_ws, silent, pause, report, normal_msg, use_async, cargs)\u001b[0m\n\u001b[0;32m   1374\u001b[0m         s = 'The program {} does not exist or is not executable.'.format(\n\u001b[0;32m   1375\u001b[0m             exe_name)\n\u001b[1;32m-> 1376\u001b[1;33m         \u001b[1;32mraise\u001b[0m \u001b[0mException\u001b[0m\u001b[1;33m(\u001b[0m\u001b[0ms\u001b[0m\u001b[1;33m)\u001b[0m\u001b[1;33m\u001b[0m\u001b[0m\n\u001b[0m\u001b[0;32m   1377\u001b[0m     \u001b[1;32melse\u001b[0m\u001b[1;33m:\u001b[0m\u001b[1;33m\u001b[0m\u001b[0m\n\u001b[0;32m   1378\u001b[0m         \u001b[1;32mif\u001b[0m \u001b[1;32mnot\u001b[0m \u001b[0msilent\u001b[0m\u001b[1;33m:\u001b[0m\u001b[1;33m\u001b[0m\u001b[0m\n",
      "\u001b[1;31mException\u001b[0m: The program mf2005.exe does not exist or is not executable."
     ]
    }
   ],
   "source": [
    "ml.write_input()\n",
    "ml.run_model()"
   ]
  },
  {
   "cell_type": "code",
   "execution_count": null,
   "metadata": {
    "scrolled": true
   },
   "outputs": [],
   "source": [
    "modelname2     = '2017'\n",
    "\n",
    "start_date2 = start_date.replace(year=2017)\n",
    "end_date2   = end_date.replace(year=2017)\n",
    "\n",
    "ml2 = gf.create_mf_model(workspace, modelname2,\n",
    "                         nlay, nrow, ncol, delc, delr,\n",
    "                         top, botm,\n",
    "                         start_date2, end_date2, steady_start_period=steady_start_period,\n",
    "                         strt=strt, fixed_head_bound_layers=fixed_head_bound_layers,\n",
    "                         tran=tran, vcont=vcont,\n",
    "                         hy=hy, laycon=laycon, sf1=sf1,\n",
    "                         )\n",
    "\n",
    "#add recharge\n",
    "ml2 = gf.add_recharge_knmi(ml2, start_date2, end_date2, recharge_stn=260, start_step=1)\n",
    "\n",
    "#add river\n",
    "riv = flopy.modflow.ModflowRiv(ml2, \n",
    "                               stress_period_data={0: [[0, 0, 0, 3, 100, 2], [0, 0, ncol-1, 3, 100, 2]]})\n",
    "\n",
    "ml2.write_input()\n",
    "ml2.run_model()"
   ]
  },
  {
   "cell_type": "code",
   "execution_count": null,
   "metadata": {},
   "outputs": [],
   "source": [
    "modelname3     = 'average_1960-2018'\n",
    "\n",
    "start_date3 = dt.datetime(1960,1,1)\n",
    "end_date3   = dt.datetime(2018,1,1)\n",
    "\n",
    "ml3 = gf.create_mf_model(workspace, modelname3,\n",
    "                         nlay, nrow, ncol, delc, delr,\n",
    "                         top, botm,\n",
    "                         start_date, end_date, steady_start_period=steady_start_period,\n",
    "                         strt=strt, fixed_head_bound_layers=fixed_head_bound_layers,\n",
    "                         tran=tran, vcont=vcont,\n",
    "                         hy=hy, laycon=laycon, sf1=sf1,\n",
    "                         )\n",
    "\n",
    "#add recharge\n",
    "ml3 = gf.add_recharge_knmi(ml3, recharge_stn=260, start_step=1,\n",
    "                           create_daily_average_rch=True, average_rch_start=start_date3, \n",
    "                           average_rch_end=end_date3)\n",
    "\n",
    "#add river\n",
    "riv = flopy.modflow.ModflowRiv(ml3, \n",
    "                               stress_period_data={0: [[0, 0, 0, 3, 100, 2], [0, 0, ncol-1, 3, 100, 2]]})\n",
    "\n",
    "ml3.write_input()\n",
    "ml3.run_model()"
   ]
  },
  {
   "cell_type": "code",
   "execution_count": null,
   "metadata": {
    "scrolled": true
   },
   "outputs": [],
   "source": [
    "modelname3     = 'average_1960-2018'\n",
    "\n",
    "start_date3 = dt.datetime(1960,1,1)\n",
    "end_date3   = dt.datetime(2018,1,1)\n",
    "\n",
    "ml3 = gf.create_mf_model(workspace, modelname3,\n",
    "                         nlay, nrow, ncol, delc, delr,\n",
    "                         top, botm,\n",
    "                         start_date, end_date,\n",
    "                         laycon=[1,3], hy=hy, tran=tran, vcont=vcont, \n",
    "                         riv_spd={0: [[0, 0, 0, 3, 100, 2], [0, 0, ncol-1, 3, 100, 2]]}, \n",
    "                         fixed_head_edge_layers=[1], recharge_stn=260, start_step=1,\n",
    "                         create_daily_average_rch=True, average_rch_start=start_date3, average_rch_end=end_date3,\n",
    "                         )\n",
    "ml3.write_input()\n",
    "ml3.run_model()"
   ]
  },
  {
   "cell_type": "markdown",
   "metadata": {},
   "source": [
    "[back to TOC](#0)\n",
    "## 3. Plot results model 2018<a class=\"anchor\" id=\"3\"></a>"
   ]
  },
  {
   "cell_type": "code",
   "execution_count": null,
   "metadata": {},
   "outputs": [],
   "source": [
    "headobj = bf.HeadFile(os.path.join(workspace, modelname+'.hds'))\n",
    "times = headobj.get_times()\n",
    "\n",
    "dis = ml.get_package('DIS')"
   ]
  },
  {
   "cell_type": "code",
   "execution_count": null,
   "metadata": {},
   "outputs": [],
   "source": [
    "lay_count = 1\n",
    "fig = plt.figure(figsize=(16, 8))\n",
    "ax = fig.add_subplot(111)\n",
    "\n",
    "\n",
    "ax.set_xlabel('')\n",
    "ax.set_ylabel('groundwater head (m+ref)')\n",
    "for head_at_layer in headobj.get_data(totim=times[5]):\n",
    "    ax.plot(dis.sr.xcenter, head_at_layer[0], label = 'model layer %i'%lay_count)\n",
    "    lay_count+=1\n",
    "ax.legend()"
   ]
  },
  {
   "cell_type": "code",
   "execution_count": null,
   "metadata": {
    "scrolled": true
   },
   "outputs": [],
   "source": [
    "lay_count = 1\n",
    "fig = plt.figure(figsize=(16, 6))\n",
    "ax = fig.add_subplot(111)\n",
    "\n",
    "for time in times:\n",
    "    ax.plot(dis.sr.xcenter, headobj.get_data(totim=time)[0][0], label = 'timestep %i'%time)\n",
    "    \n",
    "ax.legend()\n",
    "ax.set_xlabel('column')\n",
    "ax.set_ylabel('groundwater head (m+ref)')"
   ]
  },
  {
   "cell_type": "code",
   "execution_count": null,
   "metadata": {
    "scrolled": true
   },
   "outputs": [],
   "source": [
    "lay_count = 1\n",
    "fig = plt.figure(figsize=(16, 6))\n",
    "ax = fig.add_subplot(111)\n",
    "\n",
    "for time in times:\n",
    "    ax.plot(dis.sr.xcenter, headobj.get_data(totim=time)[1][0], label = 'timestep %i'%time)\n",
    "    \n",
    "ax.legend()\n",
    "ax.set_xlabel('column')\n",
    "ax.set_ylabel('groundwater head (m+ref)')"
   ]
  },
  {
   "cell_type": "markdown",
   "metadata": {},
   "source": [
    "[back to TOC](#0)\n",
    "## 4. Create animation<a class=\"anchor\" id=\"4\"></a>"
   ]
  },
  {
   "cell_type": "code",
   "execution_count": null,
   "metadata": {},
   "outputs": [],
   "source": [
    "os.chdir(result_folder) #necesary because ani.save cannot handle full paths\n",
    "gf.animate_multiple_gw_rch([ml3,ml2, ml], 'plot_gws_rch.mp4', output_loc=(0,0,400), animation_frequency='D')"
   ]
  }
 ],
 "metadata": {
  "kernelspec": {
   "display_name": "Python 3",
   "language": "python",
   "name": "python3"
  },
  "language_info": {
   "codemirror_mode": {
    "name": "ipython",
    "version": 3
   },
   "file_extension": ".py",
   "mimetype": "text/x-python",
   "name": "python",
   "nbconvert_exporter": "python",
   "pygments_lexer": "ipython3",
   "version": "3.7.0"
  }
 },
 "nbformat": 4,
 "nbformat_minor": 2
}
